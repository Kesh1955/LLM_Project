{
 "cells": [
  {
   "cell_type": "markdown",
   "metadata": {},
   "source": [
    "# 10. Fine-tune & eval\n",
    "\n",
    "- Fine-tuning was identified as a great area for exploration and improvements due to the ability to adapt the model weights to the specic task being asked.\n",
    "- It has been shown to improve models in the areas of finance as well as a broad range of topics.\n",
    "- Given the series of experiments conducted prior, adaptations to system prompts, user content, pre-processing steps, given the time constraints the inability to improve performance much on evaluation metrics I wanted to see if further improvements could be attained through fine-tuning."
   ]
  },
  {
   "cell_type": "code",
   "execution_count": null,
   "metadata": {},
   "outputs": [],
   "source": []
  },
  {
   "cell_type": "markdown",
   "metadata": {},
   "source": []
  }
 ],
 "metadata": {
  "kernelspec": {
   "display_name": ".venv",
   "language": "python",
   "name": "python3"
  },
  "language_info": {
   "name": "python",
   "version": "3.10.16"
  }
 },
 "nbformat": 4,
 "nbformat_minor": 2
}
